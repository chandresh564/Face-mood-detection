{
  "nbformat": 4,
  "nbformat_minor": 0,
  "metadata": {
    "colab": {
      "provenance": [],
      "gpuType": "T4"
    },
    "kernelspec": {
      "name": "python3",
      "display_name": "Python 3"
    },
    "language_info": {
      "name": "python"
    },
    "accelerator": "GPU"
  },
  "cells": [
    {
      "cell_type": "code",
      "execution_count": null,
      "metadata": {
        "id": "ffYhRgnkOnSP"
      },
      "outputs": [],
      "source": [
        "! pip install -q kaggle\n",
        "from google.colab import files\n",
        "files.upload()"
      ]
    },
    {
      "cell_type": "code",
      "source": [
        "! mkdir ~/.kaggle\n",
        "! cp kaggle.json ~/.kaggle/\n",
        "! chmod 600 ~/.kaggle/kaggle.json\n",
        "! kaggle datasets download -d jonathanoheix/face-expression-recognition-dataset"
      ],
      "metadata": {
        "colab": {
          "base_uri": "https://localhost:8080/"
        },
        "id": "B2qD8xwAO3Qs",
        "outputId": "7810ac24-cf3d-46c7-f5c4-69d71c929c29"
      },
      "execution_count": null,
      "outputs": [
        {
          "output_type": "stream",
          "name": "stdout",
          "text": [
            "Downloading face-expression-recognition-dataset.zip to /content\n",
            " 98% 118M/121M [00:06<00:00, 20.0MB/s]\n",
            "100% 121M/121M [00:07<00:00, 17.9MB/s]\n"
          ]
        }
      ]
    },
    {
      "cell_type": "code",
      "source": [
        "import zipfile\n",
        "zip_ref = zipfile.ZipFile('/content/face-expression-recognition-dataset.zip', 'r')\n",
        "zip_ref.extractall('/content')\n",
        "zip_ref.close()"
      ],
      "metadata": {
        "id": "H9qQvuBjPDYy"
      },
      "execution_count": null,
      "outputs": []
    },
    {
      "cell_type": "code",
      "source": [
        "import os\n",
        "types_of_images={}\n",
        "\n",
        "image_folder = '/content/images/images'\n",
        "\n",
        "types_of_images = {}\n",
        "for root, dirs, files in os.walk(image_folder):\n",
        "    for file in files:\n",
        "        if file.lower().endswith(('.jpg','.jpeg', '.png', '.bmp')):\n",
        "            img_path = os.path.join(root, file)\n",
        "            if file.split('.')[-1] in types_of_images:\n",
        "              types_of_images[file.split('.')[-1]]+=1\n",
        "            else:\n",
        "              types_of_images[file.split('.')[-1]]=1\n",
        "\n",
        "types_of_images"
      ],
      "metadata": {
        "colab": {
          "base_uri": "https://localhost:8080/"
        },
        "id": "PljXC6g3PJKb",
        "outputId": "ce9dc85e-57fe-4d6a-84e3-9e3ff4cd95f6"
      },
      "execution_count": null,
      "outputs": [
        {
          "output_type": "execute_result",
          "data": {
            "text/plain": [
              "{'jpg': 35887}"
            ]
          },
          "metadata": {},
          "execution_count": 4
        }
      ]
    },
    {
      "cell_type": "code",
      "source": [
        "import os\n",
        "import cv2\n",
        "\n",
        "def check_image(img_path):\n",
        "  img = cv2.imread(img_path)\n",
        "  if img is None:\n",
        "      print(f\"Error: Unable to read image - {img_path}\")\n",
        "      return\n",
        "\n",
        "  if img.shape[2] == 1:  # Grayscale image\n",
        "      print(f\"Warning: Grayscale image - {img_path}\")\n",
        "  elif img.shape[2] == 3:  # RGB image\n",
        "      pass\n",
        "  elif img.shape[2] == 4:  # RGBA image\n",
        "      print(f\"Warning: RGBA image with transparency - {img_path}\")\n",
        "  else:\n",
        "      print(f\"Error: Unsupported image format - {img_path}\")\n",
        "\n",
        "for root, dirs, files in os.walk(image_folder):\n",
        "    for file in files:\n",
        "        if file.lower().endswith(('.jpg','.jpeg', '.png', '.bmp')):\n",
        "            img_path = os.path.join(root, file)\n",
        "            check_image(img_path)"
      ],
      "metadata": {
        "id": "sj1yRyWdPMqq"
      },
      "execution_count": null,
      "outputs": []
    },
    {
      "cell_type": "code",
      "source": [
        "from tensorflow.keras.preprocessing.image import load_img\n",
        "import matplotlib.pyplot as plt\n",
        "\n",
        "i = 1\n",
        "plt.figure(figsize=(8, 8))\n",
        "for expression in os.listdir('/content/images/validation/'):\n",
        "    img = load_img(('/content/images/validation/' + expression + '/' + os.listdir('/content/images/validation/' + expression)[0]))\n",
        "    plt.subplot(1, 7, i)\n",
        "    plt.imshow(img)\n",
        "    plt.title(expression)\n",
        "    plt.axis('off')\n",
        "    i += 1\n",
        "\n",
        "plt.show()"
      ],
      "metadata": {
        "colab": {
          "base_uri": "https://localhost:8080/",
          "height": 134
        },
        "id": "nLQx5mnrWUCL",
        "outputId": "75f05d13-d4dc-4f9a-cf2a-18d578bde60e"
      },
      "execution_count": null,
      "outputs": [
        {
          "output_type": "display_data",
          "data": {
            "text/plain": [
              "<Figure size 800x800 with 7 Axes>"
            ],
            "image/png": "[encoded data removed]"
          },
          "metadata": {}
        }
      ]
    },
    {
      "cell_type": "code",
      "source": [
        "from tensorflow.keras.preprocessing.image import ImageDataGenerator\n",
        "\n",
        "train_datagen = ImageDataGenerator(rescale=1./255)\n",
        "\n",
        "train_data = train_datagen.flow_from_directory('/content/images/train',\n",
        "    target_size=(48,48),\n",
        "    class_mode='categorical',\n",
        "    color_mode='grayscale',\n",
        "    batch_size=128,\n",
        "    shuffle=True)\n",
        "\n",
        "val_datagen = ImageDataGenerator(rescale=1./255.0)\n",
        "\n",
        "val_data = val_datagen.flow_from_directory('/content/images/validation',\n",
        "                                           target_size=(48,48),\n",
        "                                           class_mode='categorical',\n",
        "                                            color_mode='grayscale',\n",
        "                                           batch_size=128,\n",
        "                                           shuffle=False)"
      ],
      "metadata": {
        "colab": {
          "base_uri": "https://localhost:8080/"
        },
        "id": "6VSIwOzrPRxc",
        "outputId": "91e8f8b6-5f8a-4ff0-bce1-b90ed15df2ea"
      },
      "execution_count": null,
      "outputs": [
        {
          "output_type": "stream",
          "name": "stdout",
          "text": [
            "Found 28821 images belonging to 7 classes.\n",
            "Found 7066 images belonging to 7 classes.\n"
          ]
        }
      ]
    },
    {
      "cell_type": "code",
      "source": [
        "import tensorflow as tf\n",
        "\n",
        "model = tf.keras.models.Sequential([tf.keras.layers.Conv2D(64, (3,3), activation='relu', padding='same',input_shape=(48, 48, 1)),\n",
        "    tf.keras.layers.MaxPooling2D(2, 2),\n",
        "    tf.keras.layers.Conv2D(128, (3,3), padding='same',activation='relu'),\n",
        "    tf.keras.layers.MaxPooling2D(2,2),\n",
        "    tf.keras.layers.Conv2D(128, (3,3), padding='same',activation='relu'),\n",
        "    tf.keras.layers.MaxPooling2D(2,2),\n",
        "    tf.keras.layers.Conv2D(256, (3,3),padding='same', activation='relu'),\n",
        "    tf.keras.layers.MaxPooling2D(2,2),\n",
        "    tf.keras.layers.Dropout(0.2),\n",
        "    tf.keras.layers.Flatten(),\n",
        "    tf.keras.layers.Dense(512, activation='relu'),\n",
        "    tf.keras.layers.Dense(7, activation='softmax')\n",
        "])\n",
        "\n",
        "model.compile(loss = 'categorical_crossentropy', optimizer='adam', metrics=['accuracy'])\n",
        "\n",
        "model.summary()"
      ],
      "metadata": {
        "colab": {
          "base_uri": "https://localhost:8080/"
        },
        "id": "p4Yya8f0PnrL",
        "outputId": "9b35bd63-246d-4e79-84c5-6199f2722ea2"
      },
      "execution_count": null,
      "outputs": [
        {
          "output_type": "stream",
          "name": "stdout",
          "text": [
            "Model: \"sequential_7\"\n",
            "_________________________________________________________________\n",
            " Layer (type)                Output Shape              Param #   \n",
            "=================================================================\n",
            " conv2d_28 (Conv2D)          (None, 48, 48, 64)        640       \n",
            "                                                                 \n",
            " max_pooling2d_28 (MaxPoolin  (None, 24, 24, 64)       0         \n",
            " g2D)                                                            \n",
            "                                                                 \n",
            " conv2d_29 (Conv2D)          (None, 24, 24, 128)       73856     \n",
            "                                                                 \n",
            " max_pooling2d_29 (MaxPoolin  (None, 12, 12, 128)      0         \n",
            " g2D)                                                            \n",
            "                                                                 \n",
            " conv2d_30 (Conv2D)          (None, 12, 12, 128)       147584    \n",
            "                                                                 \n",
            " max_pooling2d_30 (MaxPoolin  (None, 6, 6, 128)        0         \n",
            " g2D)                                                            \n",
            "                                                                 \n",
            " conv2d_31 (Conv2D)          (None, 6, 6, 256)         295168    \n",
            "                                                                 \n",
            " max_pooling2d_31 (MaxPoolin  (None, 3, 3, 256)        0         \n",
            " g2D)                                                            \n",
            "                                                                 \n",
            " dropout_7 (Dropout)         (None, 3, 3, 256)         0         \n",
            "                                                                 \n",
            " flatten_7 (Flatten)         (None, 2304)              0         \n",
            "                                                                 \n",
            " dense_15 (Dense)            (None, 512)               1180160   \n",
            "                                                                 \n",
            " dense_16 (Dense)            (None, 7)                 3591      \n",
            "                                                                 \n",
            "=================================================================\n",
            "Total params: 1,700,999\n",
            "Trainable params: 1,700,999\n",
            "Non-trainable params: 0\n",
            "_________________________________________________________________\n"
          ]
        }
      ]
    },
    {
      "cell_type": "code",
      "source": [
        "history = model.fit(train_data, epochs=100, steps_per_epoch=225, verbose = 1,validation_data=val_data)"
      ],
      "metadata": {
        "colab": {
          "base_uri": "https://localhost:8080/"
        },
        "id": "QYDfDDN4PuLq",
        "outputId": "c8476adc-bf69-48b9-b4c9-24a27ceb62eb"
      },
      "execution_count": null,
      "outputs": [
        {
          "output_type": "stream",
          "name": "stdout",
          "text": [
            "Epoch 1/100\n",
            "225/225 [==============================] - 16s 59ms/step - loss: 1.8355 - accuracy: 0.2299 - val_loss: 1.8112 - val_accuracy: 0.2583\n",
            "Epoch 2/100\n",
            "225/225 [==============================] - 13s 58ms/step - loss: 1.8228 - accuracy: 0.2339 - val_loss: 1.7857 - val_accuracy: 0.2583\n",
            "Epoch 3/100\n",
            "225/225 [==============================] - 13s 57ms/step - loss: 1.7991 - accuracy: 0.2525 - val_loss: 1.7977 - val_accuracy: 0.2505\n",
            "Epoch 4/100\n",
            "225/225 [==============================] - 9s 42ms/step - loss: 1.7900 - accuracy: 0.2597 - val_loss: 1.7723 - val_accuracy: 0.2591\n",
            "Epoch 5/100\n",
            "225/225 [==============================] - 10s 45ms/step - loss: 1.7760 - accuracy: 0.2544 - val_loss: 1.7758 - val_accuracy: 0.2646\n",
            "Epoch 6/100\n",
            "225/225 [==============================] - 10s 43ms/step - loss: 1.7496 - accuracy: 0.2789 - val_loss: 1.7094 - val_accuracy: 0.3112\n",
            "Epoch 7/100\n",
            "225/225 [==============================] - 13s 58ms/step - loss: 1.7053 - accuracy: 0.3083 - val_loss: 1.6666 - val_accuracy: 0.3324\n",
            "Epoch 8/100\n",
            "225/225 [==============================] - 13s 57ms/step - loss: 1.6779 - accuracy: 0.3236 - val_loss: 1.6066 - val_accuracy: 0.3675\n",
            "Epoch 9/100\n",
            "225/225 [==============================] - 13s 60ms/step - loss: 1.6171 - accuracy: 0.3539 - val_loss: 1.5510 - val_accuracy: 0.3999\n",
            "Epoch 10/100\n",
            "225/225 [==============================] - 9s 39ms/step - loss: 1.5550 - accuracy: 0.3881 - val_loss: 1.4986 - val_accuracy: 0.4219\n",
            "Epoch 11/100\n",
            "225/225 [==============================] - 10s 42ms/step - loss: 1.5230 - accuracy: 0.4054 - val_loss: 1.4514 - val_accuracy: 0.4384\n",
            "Epoch 12/100\n",
            "225/225 [==============================] - 10s 43ms/step - loss: 1.4411 - accuracy: 0.4344 - val_loss: 1.4642 - val_accuracy: 0.4396\n",
            "Epoch 13/100\n",
            "225/225 [==============================] - 10s 43ms/step - loss: 1.4603 - accuracy: 0.4394 - val_loss: 1.5958 - val_accuracy: 0.3674\n",
            "Epoch 14/100\n",
            "225/225 [==============================] - 13s 57ms/step - loss: 1.3910 - accuracy: 0.4711 - val_loss: 1.4012 - val_accuracy: 0.4515\n",
            "Epoch 15/100\n",
            "225/225 [==============================] - 9s 41ms/step - loss: 1.3752 - accuracy: 0.4656 - val_loss: 1.4029 - val_accuracy: 0.4566\n",
            "Epoch 16/100\n",
            "225/225 [==============================] - 9s 39ms/step - loss: 1.3567 - accuracy: 0.4739 - val_loss: 1.3555 - val_accuracy: 0.4738\n",
            "Epoch 17/100\n",
            "225/225 [==============================] - 14s 61ms/step - loss: 1.3513 - accuracy: 0.4756 - val_loss: 1.3153 - val_accuracy: 0.4952\n",
            "Epoch 18/100\n",
            "225/225 [==============================] - 9s 42ms/step - loss: 1.3274 - accuracy: 0.4867 - val_loss: 1.3435 - val_accuracy: 0.4846\n",
            "Epoch 19/100\n",
            "225/225 [==============================] - 13s 57ms/step - loss: 1.3139 - accuracy: 0.4917 - val_loss: 1.3249 - val_accuracy: 0.4955\n",
            "Epoch 20/100\n",
            "225/225 [==============================] - 9s 41ms/step - loss: 1.2827 - accuracy: 0.5083 - val_loss: 1.3091 - val_accuracy: 0.5008\n",
            "Epoch 21/100\n",
            "225/225 [==============================] - 9s 40ms/step - loss: 1.2654 - accuracy: 0.5108 - val_loss: 1.2883 - val_accuracy: 0.5067\n",
            "Epoch 22/100\n",
            "225/225 [==============================] - 10s 43ms/step - loss: 1.2383 - accuracy: 0.5208 - val_loss: 1.2888 - val_accuracy: 0.5013\n",
            "Epoch 23/100\n",
            "225/225 [==============================] - 13s 59ms/step - loss: 1.2798 - accuracy: 0.5089 - val_loss: 1.2570 - val_accuracy: 0.5232\n",
            "Epoch 24/100\n",
            "225/225 [==============================] - 10s 42ms/step - loss: 1.2259 - accuracy: 0.5353 - val_loss: 1.2952 - val_accuracy: 0.5001\n",
            "Epoch 25/100\n",
            "225/225 [==============================] - 13s 58ms/step - loss: 1.2442 - accuracy: 0.5211 - val_loss: 1.2794 - val_accuracy: 0.5115\n",
            "Epoch 26/100\n",
            "225/225 [==============================] - 10s 43ms/step - loss: 1.2054 - accuracy: 0.5344 - val_loss: 1.2671 - val_accuracy: 0.5168\n",
            "Epoch 27/100\n",
            "225/225 [==============================] - 13s 58ms/step - loss: 1.1835 - accuracy: 0.5417 - val_loss: 1.3177 - val_accuracy: 0.4919\n",
            "Epoch 28/100\n",
            "225/225 [==============================] - 13s 58ms/step - loss: 1.1760 - accuracy: 0.5578 - val_loss: 1.2579 - val_accuracy: 0.5177\n",
            "Epoch 29/100\n",
            "225/225 [==============================] - 10s 43ms/step - loss: 1.1641 - accuracy: 0.5569 - val_loss: 1.2318 - val_accuracy: 0.5378\n",
            "Epoch 30/100\n",
            "225/225 [==============================] - 9s 40ms/step - loss: 1.1844 - accuracy: 0.5544 - val_loss: 1.2387 - val_accuracy: 0.5228\n",
            "Epoch 31/100\n",
            "225/225 [==============================] - 10s 43ms/step - loss: 1.1759 - accuracy: 0.5539 - val_loss: 1.2493 - val_accuracy: 0.5245\n",
            "Epoch 32/100\n",
            "225/225 [==============================] - 13s 58ms/step - loss: 1.1630 - accuracy: 0.5519 - val_loss: 1.2263 - val_accuracy: 0.5362\n",
            "Epoch 33/100\n",
            "225/225 [==============================] - 13s 60ms/step - loss: 1.1370 - accuracy: 0.5697 - val_loss: 1.2396 - val_accuracy: 0.5287\n",
            "Epoch 34/100\n",
            "225/225 [==============================] - 14s 61ms/step - loss: 1.1099 - accuracy: 0.5797 - val_loss: 1.2549 - val_accuracy: 0.5321\n",
            "Epoch 35/100\n",
            "225/225 [==============================] - 13s 58ms/step - loss: 1.1235 - accuracy: 0.5678 - val_loss: 1.1987 - val_accuracy: 0.5439\n",
            "Epoch 36/100\n",
            "225/225 [==============================] - 13s 58ms/step - loss: 1.1104 - accuracy: 0.5781 - val_loss: 1.2060 - val_accuracy: 0.5420\n",
            "Epoch 37/100\n",
            "225/225 [==============================] - 13s 58ms/step - loss: 1.0659 - accuracy: 0.6086 - val_loss: 1.1942 - val_accuracy: 0.5497\n",
            "Epoch 38/100\n",
            "225/225 [==============================] - 13s 58ms/step - loss: 1.0779 - accuracy: 0.5939 - val_loss: 1.2305 - val_accuracy: 0.5430\n",
            "Epoch 39/100\n",
            "225/225 [==============================] - 9s 42ms/step - loss: 1.0441 - accuracy: 0.6058 - val_loss: 1.2491 - val_accuracy: 0.5393\n",
            "Epoch 40/100\n",
            "225/225 [==============================] - 9s 41ms/step - loss: 1.0683 - accuracy: 0.5872 - val_loss: 1.1994 - val_accuracy: 0.5582\n",
            "Epoch 41/100\n",
            "225/225 [==============================] - 14s 61ms/step - loss: 1.0414 - accuracy: 0.6000 - val_loss: 1.2333 - val_accuracy: 0.5410\n",
            "Epoch 42/100\n",
            "225/225 [==============================] - 13s 58ms/step - loss: 1.0229 - accuracy: 0.6189 - val_loss: 1.2131 - val_accuracy: 0.5549\n",
            "Epoch 43/100\n",
            "225/225 [==============================] - 10s 43ms/step - loss: 1.0067 - accuracy: 0.6133 - val_loss: 1.2165 - val_accuracy: 0.5497\n",
            "Epoch 44/100\n",
            "225/225 [==============================] - 9s 40ms/step - loss: 1.0243 - accuracy: 0.6110 - val_loss: 1.2396 - val_accuracy: 0.5388\n",
            "Epoch 45/100\n",
            "225/225 [==============================] - 10s 44ms/step - loss: 1.0215 - accuracy: 0.6194 - val_loss: 1.2023 - val_accuracy: 0.5558\n",
            "Epoch 46/100\n",
            "225/225 [==============================] - 13s 59ms/step - loss: 0.9964 - accuracy: 0.6208 - val_loss: 1.2030 - val_accuracy: 0.5548\n",
            "Epoch 47/100\n",
            "225/225 [==============================] - 10s 43ms/step - loss: 0.9784 - accuracy: 0.6403 - val_loss: 1.2646 - val_accuracy: 0.5456\n",
            "Epoch 48/100\n",
            "225/225 [==============================] - 10s 46ms/step - loss: 0.9841 - accuracy: 0.6250 - val_loss: 1.2081 - val_accuracy: 0.5500\n",
            "Epoch 49/100\n",
            "225/225 [==============================] - 13s 58ms/step - loss: 0.9659 - accuracy: 0.6450 - val_loss: 1.2554 - val_accuracy: 0.5470\n",
            "Epoch 50/100\n",
            "225/225 [==============================] - 9s 42ms/step - loss: 0.9762 - accuracy: 0.6336 - val_loss: 1.2033 - val_accuracy: 0.5641\n",
            "Epoch 51/100\n",
            "225/225 [==============================] - 9s 42ms/step - loss: 0.9508 - accuracy: 0.6406 - val_loss: 1.2134 - val_accuracy: 0.5579\n",
            "Epoch 52/100\n",
            "225/225 [==============================] - 13s 58ms/step - loss: 0.9308 - accuracy: 0.6572 - val_loss: 1.2135 - val_accuracy: 0.5610\n",
            "Epoch 53/100\n",
            "225/225 [==============================] - 13s 58ms/step - loss: 0.9153 - accuracy: 0.6644 - val_loss: 1.2346 - val_accuracy: 0.5587\n",
            "Epoch 54/100\n",
            "225/225 [==============================] - 13s 58ms/step - loss: 0.9035 - accuracy: 0.6650 - val_loss: 1.2205 - val_accuracy: 0.5667\n",
            "Epoch 55/100\n",
            "225/225 [==============================] - 10s 42ms/step - loss: 0.9040 - accuracy: 0.6628 - val_loss: 1.2254 - val_accuracy: 0.5592\n",
            "Epoch 56/100\n",
            "225/225 [==============================] - 10s 42ms/step - loss: 0.8600 - accuracy: 0.6839 - val_loss: 1.2073 - val_accuracy: 0.5668\n",
            "Epoch 57/100\n",
            "225/225 [==============================] - 9s 40ms/step - loss: 0.8700 - accuracy: 0.6719 - val_loss: 1.2228 - val_accuracy: 0.5590\n",
            "Epoch 58/100\n",
            "225/225 [==============================] - 13s 59ms/step - loss: 0.8780 - accuracy: 0.6717 - val_loss: 1.2561 - val_accuracy: 0.5584\n",
            "Epoch 59/100\n",
            "225/225 [==============================] - 10s 44ms/step - loss: 0.8800 - accuracy: 0.6731 - val_loss: 1.2356 - val_accuracy: 0.5558\n",
            "Epoch 60/100\n",
            "225/225 [==============================] - 13s 58ms/step - loss: 0.8460 - accuracy: 0.6906 - val_loss: 1.2337 - val_accuracy: 0.5604\n",
            "Epoch 61/100\n",
            "225/225 [==============================] - 13s 58ms/step - loss: 0.8182 - accuracy: 0.7008 - val_loss: 1.2243 - val_accuracy: 0.5658\n",
            "Epoch 62/100\n",
            "225/225 [==============================] - 9s 40ms/step - loss: 0.8715 - accuracy: 0.6800 - val_loss: 1.2536 - val_accuracy: 0.5596\n",
            "Epoch 63/100\n",
            "225/225 [==============================] - 10s 43ms/step - loss: 0.8108 - accuracy: 0.7003 - val_loss: 1.2986 - val_accuracy: 0.5565\n",
            "Epoch 64/100\n",
            "225/225 [==============================] - 13s 58ms/step - loss: 0.8291 - accuracy: 0.6944 - val_loss: 1.2294 - val_accuracy: 0.5637\n",
            "Epoch 65/100\n",
            "225/225 [==============================] - 10s 42ms/step - loss: 0.7968 - accuracy: 0.7092 - val_loss: 1.3204 - val_accuracy: 0.5409\n",
            "Epoch 66/100\n",
            "225/225 [==============================] - 13s 58ms/step - loss: 0.8142 - accuracy: 0.7031 - val_loss: 1.3295 - val_accuracy: 0.5616\n",
            "Epoch 67/100\n",
            "225/225 [==============================] - 13s 58ms/step - loss: 0.7684 - accuracy: 0.7297 - val_loss: 1.2947 - val_accuracy: 0.5628\n",
            "Epoch 68/100\n",
            "225/225 [==============================] - 13s 58ms/step - loss: 0.7891 - accuracy: 0.7078 - val_loss: 1.2826 - val_accuracy: 0.5575\n",
            "Epoch 69/100\n",
            "225/225 [==============================] - 14s 62ms/step - loss: 0.7395 - accuracy: 0.7297 - val_loss: 1.2868 - val_accuracy: 0.5577\n",
            "Epoch 70/100\n",
            "225/225 [==============================] - 10s 43ms/step - loss: 0.7492 - accuracy: 0.7300 - val_loss: 1.2672 - val_accuracy: 0.5702\n",
            "Epoch 71/100\n",
            "225/225 [==============================] - 10s 43ms/step - loss: 0.7606 - accuracy: 0.7200 - val_loss: 1.2658 - val_accuracy: 0.5676\n",
            "Epoch 72/100\n",
            "225/225 [==============================] - 13s 58ms/step - loss: 0.7345 - accuracy: 0.7289 - val_loss: 1.3066 - val_accuracy: 0.5623\n",
            "Epoch 73/100\n",
            "225/225 [==============================] - 13s 58ms/step - loss: 0.7125 - accuracy: 0.7450 - val_loss: 1.3626 - val_accuracy: 0.5526\n",
            "Epoch 74/100\n",
            "225/225 [==============================] - 10s 43ms/step - loss: 0.7291 - accuracy: 0.7336 - val_loss: 1.3296 - val_accuracy: 0.5532\n",
            "Epoch 75/100\n",
            "225/225 [==============================] - 13s 58ms/step - loss: 0.7215 - accuracy: 0.7406 - val_loss: 1.3055 - val_accuracy: 0.5654\n",
            "Epoch 76/100\n",
            "225/225 [==============================] - 10s 43ms/step - loss: 0.7074 - accuracy: 0.7428 - val_loss: 1.3411 - val_accuracy: 0.5627\n",
            "Epoch 77/100\n",
            "225/225 [==============================] - 13s 58ms/step - loss: 0.6772 - accuracy: 0.7631 - val_loss: 1.3012 - val_accuracy: 0.5623\n",
            "Epoch 78/100\n",
            "225/225 [==============================] - 10s 43ms/step - loss: 0.6915 - accuracy: 0.7481 - val_loss: 1.3229 - val_accuracy: 0.5570\n",
            "Epoch 79/100\n",
            "225/225 [==============================] - 9s 41ms/step - loss: 0.6750 - accuracy: 0.7481 - val_loss: 1.3825 - val_accuracy: 0.5627\n",
            "Epoch 80/100\n",
            "225/225 [==============================] - 10s 43ms/step - loss: 0.6643 - accuracy: 0.7708 - val_loss: 1.3440 - val_accuracy: 0.5582\n",
            "Epoch 81/100\n",
            "225/225 [==============================] - 10s 43ms/step - loss: 0.6491 - accuracy: 0.7622 - val_loss: 1.3223 - val_accuracy: 0.5645\n",
            "Epoch 82/100\n",
            "225/225 [==============================] - 10s 43ms/step - loss: 0.6529 - accuracy: 0.7592 - val_loss: 1.3596 - val_accuracy: 0.5616\n",
            "Epoch 83/100\n",
            "225/225 [==============================] - 13s 58ms/step - loss: 0.6334 - accuracy: 0.7778 - val_loss: 1.3428 - val_accuracy: 0.5659\n",
            "Epoch 84/100\n",
            "225/225 [==============================] - 9s 40ms/step - loss: 0.6181 - accuracy: 0.7819 - val_loss: 1.3717 - val_accuracy: 0.5601\n",
            "Epoch 85/100\n",
            "225/225 [==============================] - 10s 43ms/step - loss: 0.6126 - accuracy: 0.7844 - val_loss: 1.3950 - val_accuracy: 0.5577\n",
            "Epoch 86/100\n",
            "225/225 [==============================] - 13s 58ms/step - loss: 0.6154 - accuracy: 0.7732 - val_loss: 1.4083 - val_accuracy: 0.5601\n",
            "Epoch 87/100\n",
            "225/225 [==============================] - 13s 59ms/step - loss: 0.5944 - accuracy: 0.7852 - val_loss: 1.4349 - val_accuracy: 0.5679\n",
            "Epoch 88/100\n",
            "225/225 [==============================] - 13s 58ms/step - loss: 0.5997 - accuracy: 0.7850 - val_loss: 1.3919 - val_accuracy: 0.5655\n",
            "Epoch 89/100\n",
            "225/225 [==============================] - 10s 43ms/step - loss: 0.5964 - accuracy: 0.7875 - val_loss: 1.4066 - val_accuracy: 0.5638\n",
            "Epoch 90/100\n",
            "225/225 [==============================] - 13s 58ms/step - loss: 0.5818 - accuracy: 0.7928 - val_loss: 1.4379 - val_accuracy: 0.5611\n",
            "Epoch 91/100\n",
            "225/225 [==============================] - 10s 43ms/step - loss: 0.5956 - accuracy: 0.7811 - val_loss: 1.4236 - val_accuracy: 0.5606\n",
            "Epoch 92/100\n",
            "225/225 [==============================] - 10s 43ms/step - loss: 0.5615 - accuracy: 0.7950 - val_loss: 1.4575 - val_accuracy: 0.5671\n",
            "Epoch 93/100\n",
            "225/225 [==============================] - 13s 58ms/step - loss: 0.5690 - accuracy: 0.7921 - val_loss: 1.4375 - val_accuracy: 0.5621\n",
            "Epoch 94/100\n",
            "225/225 [==============================] - 10s 42ms/step - loss: 0.5346 - accuracy: 0.8133 - val_loss: 1.4471 - val_accuracy: 0.5580\n",
            "Epoch 95/100\n",
            "225/225 [==============================] - 13s 58ms/step - loss: 0.5667 - accuracy: 0.7983 - val_loss: 1.4907 - val_accuracy: 0.5542\n",
            "Epoch 96/100\n",
            "225/225 [==============================] - 10s 43ms/step - loss: 0.5254 - accuracy: 0.8192 - val_loss: 1.4953 - val_accuracy: 0.5634\n",
            "Epoch 97/100\n",
            "225/225 [==============================] - 10s 43ms/step - loss: 0.5513 - accuracy: 0.8011 - val_loss: 1.4502 - val_accuracy: 0.5589\n",
            "Epoch 98/100\n",
            "225/225 [==============================] - 13s 58ms/step - loss: 0.5286 - accuracy: 0.8214 - val_loss: 1.5151 - val_accuracy: 0.5702\n",
            "Epoch 99/100\n",
            "225/225 [==============================] - 13s 58ms/step - loss: 0.5111 - accuracy: 0.8150 - val_loss: 1.5602 - val_accuracy: 0.5552\n",
            "Epoch 100/100\n",
            "225/225 [==============================] - 10s 43ms/step - loss: 0.4941 - accuracy: 0.8186 - val_loss: 1.5319 - val_accuracy: 0.5634\n"
          ]
        }
      ]
    },
    {
      "cell_type": "code",
      "source": [
        "model_json = model.to_json()\n",
        "json_file = 'emotiondetector.json'\n",
        "with open(json_file,'w') as f:\n",
        "  f.write(model_json)\n",
        "model.save('emotiondetector.h5')"
      ],
      "metadata": {
        "id": "CfZqxQvZP5-v"
      },
      "execution_count": null,
      "outputs": []
    },
    {
      "cell_type": "code",
      "source": [
        "from tensorflow.keras.models import model_from_json\n",
        "json_file = open('/content/emotiondetector.json','r')\n",
        "model_json=json_file.read()\n",
        "json_file.close()\n",
        "model = model_from_json(model_json)\n",
        "model.load_weights('/content/emotiondetector.h5')"
      ],
      "metadata": {
        "id": "VV1HUwLMigVS"
      },
      "execution_count": null,
      "outputs": []
    },
    {
      "cell_type": "code",
      "source": [
        "import cv2\n",
        "haar = cv2.data.haarcascades+'haarcascade_frontalface_default.xml'\n",
        "face_cascade = cv2.CascadeClassifier(haar)"
      ],
      "metadata": {
        "id": "ClQ_TA8oluZZ"
      },
      "execution_count": null,
      "outputs": []
    },
    {
      "cell_type": "code",
      "source": [
        "import numpy as np\n",
        "def feature_extract(img):\n",
        "  feature = np.array(img)\n",
        "  feature.reshape(1,48,48,1)\n",
        "  return feature/255.0"
      ],
      "metadata": {
        "id": "pV7uA9tymzu5"
      },
      "execution_count": null,
      "outputs": []
    },
    {
      "cell_type": "code",
      "source": [
        "cap = cv2.VideoCapture(0)\n",
        "labels = {0:'angry',1:'disgust',2:'fear',3:'happy',4:'neutral',5:'sad',6:'suprise'}\n",
        "\n",
        "while True:\n",
        "  success,frame=cap.read()\n",
        "  gray = cv2.cvtColor(frame,cv2.COLOR_BGR2GRAY)\n",
        "  faces = face_cascade.detectMultiScale(frame,1.3,5)\n",
        "\n",
        "  for (p,q,r,s) in faces:\n",
        "    image = gray[q:q+s,p:p+r]\n",
        "    cv2.rectangle(frame,(p,q),(p+r,q+s),(255,0,0),2)\n",
        "    image = cv2.resize(image,(48,48))\n",
        "    img = feature_extract(image)\n",
        "\n",
        "    pred = model.predict(img)\n",
        "\n",
        "    prediction_label = labels[pred.argmax()]\n",
        "\n",
        "    cv2.putText(frame, '% s' %(prediction_label),(p-10,q-10),cv2.FONT_HERSHEY_SIMPLEX,2,(0,0,255))\n",
        "\n",
        "    cv2.imshow('Output',frame)\n",
        "\n",
        "  if cv2.waitKey(1) & 0xFF == ord('q'):\n",
        "        break\n",
        "\n",
        "cap.release()\n",
        "cv2.destroyAllWindows()\n"
      ],
      "metadata": {
        "id": "j77vL0ZYnP-a"
      },
      "execution_count": null,
      "outputs": []
    }
  ]
}